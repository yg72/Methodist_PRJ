{
 "cells": [
  {
   "cell_type": "code",
   "execution_count": 1,
   "metadata": {},
   "outputs": [],
   "source": [
    "import pandas as pd\n",
    "from scipy.stats import pearsonr\n",
    "import os\n",
    "import matplotlib.pyplot as plt\n",
    "from matplotlib.dates import AutoDateLocator, DateFormatter\n",
    "from datetime import datetime\n",
    "import seaborn as sns\n",
    "import numpy as np\n",
    "import matplotlib.patches as mpatches\n",
    "folder = '/Users/yiwengeng/Documents/PregnantPrj/Data/PTL_Data/'\n",
    "dirlist = [\"PTL01\",\"PTL02\",\"PTL03\",\"PTL05\",\"PTL06\",\"PTL07\",\"PTL09\",\"PTL10\",\"PTL11\",\"PTL12\",\"PTL13\",\"PTL14\",\"PTL15\",\"PTL16\",\"PTL17\"]\n",
    "# dirlist = [\"PTL02\",\"PTL03\"]\n",
    "act_names=[\"activity_score\", \"score_meet_daily_targets\",\"score_move_every_hour\",\"score_stay_active\",\"steps\"]\n",
    "hr_names=[\"bpm\"]\n",
    "spo2_names=[\"spo2\"]\n",
    "hrhrv_names=[\"5min_hr\",\"5min_hrv\"]\n",
    "ready_names=[\"readiness_score\", \"score_previous_night\",\"score_sleep_balance\", \n",
    "             \"score_previous_day\",\"score_activity_balance\",\"score_resting_hr\",\n",
    "             \"score_hrv_balance\",\"score_recovery_index\",\"score_temperature\"]\n",
    "sleep_names=[\"sleep_score\", \"duration\",\"efficiency\",\"onset_latency\",\"rmssd\",\n",
    "             \"score_deep\",\"score_efficiency\",\"score_rem\"]\n",
    "\n",
    "df_act = {}\n",
    "df_sleep = {}\n",
    "df_ready = {}\n",
    "df_hr = {}\n",
    "df_hrhrv = {}\n",
    "df_spo2 = {}\n",
    "\n",
    "marker = \"cEmotAbuse\"\n",
    "healthy = [1,2,3,8,9,10,12,13,14,15,18]\n",
    "unhealthy = [4,5,6,7,11,16,17]\n",
    "\n",
    "for dir in dirlist:\n",
    "    ID = int(dir[-2:])\n",
    "    os.chdir(folder+dir)\n",
    "    files = sorted(os.listdir())\n",
    "    # print(\"ID\",ID)\n",
    "    # activity\n",
    "    df_act[ID] = pd.read_csv(files[0], parse_dates = [0])\n",
    "    df_act[ID].rename(columns={'score':'activity_score'},inplace=True)\n",
    "    df_act[ID]['ID'] =  ID\n",
    "    df_act[ID][marker] = 0 if ID in healthy else 1 if ID in unhealthy else None\n",
    "        \n",
    "    # df_act[ID]['Trama'] = 0 if ID in [1,2,3,9,10,11,12,13,14,15,17,18] else 1 if ID in [5,6,7,16] else None\n",
    "    # print('act',len(df_act[ID]))\n",
    "\n",
    "    # sleep\n",
    "    df_sleep[ID] = pd.read_csv(files[7], parse_dates = [0])\n",
    "    df_sleep[ID].rename(columns={'score':'sleep_score'},inplace=True)\n",
    "    df_sleep[ID]['ID'] =  ID\n",
    "    # df_sleep[ID]['Trama'] = 0 if ID in [1,2,3,9,10,11,12,13,14,15,17,18] else 1 if ID in [5,6,7,16] else None\n",
    "    df_sleep[ID][marker] = 0 if ID in healthy else 1 if ID in unhealthy else None\n",
    "    \n",
    "    # print('sleep',len(df_sleep[ID]))\n",
    "    # readiness\n",
    "    df_ready[ID] = pd.read_csv(files[5], parse_dates = [0])\n",
    "    df_ready[ID].rename(columns={'score':'readiness_score'},inplace=True)\n",
    "    df_ready[ID]['ID'] =  ID\n",
    "    # df_ready[ID]['Trama'] = 0 if ID in [1,2,3,9,10,11,12,13,14,15,17] else 1 if ID in [5,6,7,16] else None\n",
    "    df_ready[ID][marker] = 0 if ID in healthy else 1 if ID in unhealthy else None\n",
    "    # print('ready',len(df_ready[ID]))\n",
    "\n",
    "    # daily_hr\n",
    "    df_hr[ID] = pd.read_csv(files[1], parse_dates = [0])\n",
    "    df_hr[ID]['ID'] =  ID\n",
    "    # df_hr[ID]['Trama'] = 0 if ID in [1,2,3,9,10,11,12,13,14,15,17] else 1 if ID in [5,6,7,16] else None    \n",
    "    df_hr[ID][marker] = 0 if ID in healthy else 1 if ID in unhealthy else None    \n",
    "        \n",
    "    # print('hr',len(df_hr[ID]))\n",
    "\n",
    "    # hr_hrv\n",
    "    df_hrhrv[ID] = pd.read_csv(files[3], parse_dates = [0])\n",
    "    df_hrhrv[ID].rename(columns={'5-min hr':'5min_hr','5-min hrv':'5min_hrv'},inplace=True)\n",
    "    df_hrhrv[ID]['ID'] =  ID\n",
    "    # df_hrhrv[ID]['Trama'] = 0 if ID in [1,2,3,9,10,11,12,13,14,15,17] else 1 if ID in [5,6,7,16] else None   \n",
    "    df_hrhrv[ID][marker] = 0 if ID in healthy else 1 if ID in unhealthy else None   \n",
    "    df_hrhrv[ID] = df_hrhrv[ID].loc[df_hrhrv[ID]['5min_hr'] != 0]\n",
    "    df_hrhrv[ID]['timestamp'] = pd.to_datetime(df_hrhrv[ID]['timestamp'], utc=True)\n",
    "    df_hrhrv[ID]['days_from_start'] = (df_hrhrv[ID]['timestamp'] - df_hrhrv[ID]['timestamp'].min()).dt.days\n",
    "    df_hrhrv[ID]['Date'] = pd.to_datetime(df_hrhrv[ID]['timestamp'].dt.date, utc=True)\n",
    "\n",
    "    # print(\"hrhrv\",len(df_hrhrv[ID]))\n",
    "\n",
    "    # spo2\n",
    "    df_spo2[ID] = pd.read_csv(files[2], parse_dates = [0])\n",
    "    df_spo2[ID].rename(columns={'average spo2':'spo2'},inplace=True)\n",
    "    df_spo2[ID]['ID'] =  ID\n",
    "    df_spo2[ID][marker] = 0 if ID in healthy else 1 if ID in unhealthy else None    \n",
    "\n",
    "    # df_spo2[ID]['Trama'] = 0 if ID in [1,2,3,9,10,11,12,13,14,15,17] else 1 if ID in [5,6,7,16] else None    \n",
    "    # print('spo2',len(df_spo2[ID]))\n",
    "\n",
    "    # print(\"*\"*20)"
   ]
  },
  {
   "cell_type": "markdown",
   "metadata": {},
   "source": [
    "### RMSSD"
   ]
  },
  {
   "cell_type": "code",
   "execution_count": 2,
   "metadata": {},
   "outputs": [],
   "source": [
    "df_modify_HRV = {}\n",
    "for dir in dirlist:\n",
    "    ID = int(dir[-2:])\n",
    "    # mean_hrv_per_day = df_hrhrv[ID].groupby('Date')['5min_hrv'].mean().reset_index()\n",
    "    # mean_hrv_per_day['Date'] = pd.to_datetime(mean_hrv_per_day['Date']).dt.date\n",
    "    # mean_hrv_per_day.rename(columns={'5min_hrv':'Avg_dailyHRV'},inplace=True)\n",
    "        \n",
    "    temp_act = pd.DataFrame(data ={'Date':pd.to_datetime(df_act[ID]['summary_date']).dt.date, 'ID': df_act[ID]['ID'],'Trauma': df_act[ID]['Trama'],'Act_Score':df_act[ID]['activity_score']})\n",
    "    temp_sleep = pd.DataFrame(data ={'Date':pd.to_datetime(df_sleep[ID]['summary_date']).dt.date, 'Sleep_Score':df_sleep[ID]['sleep_score'], 'rmssd':df_sleep[ID]['rmssd']})\n",
    "    df_modify_HRV[ID] = pd.merge(left = temp_act, right = temp_sleep, on='Date', how='left')\n",
    "    df_modify_HRV[ID] = df_modify_HRV[ID].loc[df_modify_HRV[ID]['Sleep_Score'].notnull()]"
   ]
  },
  {
   "cell_type": "markdown",
   "metadata": {},
   "source": [
    "### 5min-HRV"
   ]
  },
  {
   "cell_type": "code",
   "execution_count": 3,
   "metadata": {},
   "outputs": [],
   "source": [
    "df_modify_HRV = {}\n",
    "for dir in dirlist:\n",
    "    ID = int(dir[-2:])\n",
    "    mean_hrv_per_day = df_hrhrv[ID].groupby('Date')['5min_hrv'].mean().reset_index()\n",
    "    mean_hrv_per_day['Date'] = pd.to_datetime(mean_hrv_per_day['Date']).dt.date\n",
    "    mean_hrv_per_day.rename(columns={'5min_hrv':'Avg_dailyHRV'},inplace=True)\n",
    "        \n",
    "    temp_act = pd.DataFrame(data ={'Date':pd.to_datetime(df_act[ID]['summary_date']).dt.date, 'ID': df_act[ID]['ID'],marker: df_act[ID][marker],'Act_Score':df_act[ID]['activity_score']})\n",
    "    temp_sleep = pd.DataFrame(data ={'Date':pd.to_datetime(df_sleep[ID]['summary_date']).dt.date, 'Sleep_Score':df_sleep[ID]['sleep_score']})\n",
    "    df_modify_HRV[ID] = pd.merge(left = temp_act, right = mean_hrv_per_day, on='Date', how='left')\n",
    "    df_modify_HRV[ID] = pd.merge(left = df_modify_HRV[ID], right = temp_sleep, on='Date', how='left')\n",
    "    df_modify_HRV[ID] = df_modify_HRV[ID].loc[df_modify_HRV[ID]['Sleep_Score'].notnull()]"
   ]
  },
  {
   "cell_type": "code",
   "execution_count": 4,
   "metadata": {},
   "outputs": [
    {
     "name": "stdout",
     "output_type": "stream",
     "text": [
      "         Date  ID  cEmotAbuse  Act_Score  Avg_dailyHRV  Sleep_Score\n",
      "0  2023-06-10   1           0         75     47.365854         95.0\n",
      "1  2023-06-11   1           0         78     80.518519         93.0\n",
      "2  2023-06-13   1           0         83     40.669492         95.0\n",
      "3  2023-06-17   1           0         83     49.626016         97.0\n",
      "4  2023-06-18   1           0         87     12.822222         58.0\n"
     ]
    }
   ],
   "source": [
    "df_modify_HRV_all = pd.concat([df_modify_HRV[int(dir[-2:])] for dir in dirlist], axis=0,ignore_index=True)\n",
    "print(df_modify_HRV_all.head())\n"
   ]
  },
  {
   "cell_type": "code",
   "execution_count": 6,
   "metadata": {},
   "outputs": [
    {
     "data": {
      "text/plain": [
       "0.5694534419857478"
      ]
     },
     "execution_count": 6,
     "metadata": {},
     "output_type": "execute_result"
    }
   ],
   "source": [
    "import pandas as pd\n",
    "import numpy as np\n",
    "from sklearn.linear_model import LogisticRegression\n",
    "from sklearn.metrics import roc_auc_score\n",
    "from scipy.spatial.distance import cdist\n",
    "\n",
    "logistic_model = LogisticRegression().fit(df_modify_HRV_all[['Sleep_Score', 'Act_Score']], df_modify_HRV_all[marker])\n",
    "df_modify_HRV_all['Propensity_Score'] = logistic_model.predict_proba(df_modify_HRV_all[['Sleep_Score', 'Act_Score']])[:, 1]\n",
    "\n",
    "# Quick validation: check the AUC-ROC for the propensity score model\n",
    "roc_auc = roc_auc_score(df_modify_HRV_all[marker], df_modify_HRV_all['Propensity_Score'])\n",
    "\n"
   ]
  },
  {
   "cell_type": "code",
   "execution_count": 13,
   "metadata": {},
   "outputs": [
    {
     "data": {
      "text/plain": [
       "{'C': 1.0,\n",
       " 'class_weight': None,\n",
       " 'dual': False,\n",
       " 'fit_intercept': True,\n",
       " 'intercept_scaling': 1,\n",
       " 'l1_ratio': None,\n",
       " 'max_iter': 100,\n",
       " 'multi_class': 'auto',\n",
       " 'n_jobs': None,\n",
       " 'penalty': 'l2',\n",
       " 'random_state': None,\n",
       " 'solver': 'lbfgs',\n",
       " 'tol': 0.0001,\n",
       " 'verbose': 0,\n",
       " 'warm_start': False}"
      ]
     },
     "execution_count": 13,
     "metadata": {},
     "output_type": "execute_result"
    }
   ],
   "source": [
    "logistic_model.get_params(deep=True)\n"
   ]
  },
  {
   "cell_type": "code",
   "execution_count": 7,
   "metadata": {},
   "outputs": [
    {
     "data": {
      "text/html": [
       "<div>\n",
       "<style scoped>\n",
       "    .dataframe tbody tr th:only-of-type {\n",
       "        vertical-align: middle;\n",
       "    }\n",
       "\n",
       "    .dataframe tbody tr th {\n",
       "        vertical-align: top;\n",
       "    }\n",
       "\n",
       "    .dataframe thead tr th {\n",
       "        text-align: left;\n",
       "    }\n",
       "</style>\n",
       "<table border=\"1\" class=\"dataframe\">\n",
       "  <thead>\n",
       "    <tr>\n",
       "      <th></th>\n",
       "      <th colspan=\"7\" halign=\"left\">w_trauma</th>\n",
       "      <th colspan=\"7\" halign=\"left\">wo_trauma</th>\n",
       "    </tr>\n",
       "    <tr>\n",
       "      <th></th>\n",
       "      <th>Date</th>\n",
       "      <th>ID</th>\n",
       "      <th>cEmotAbuse</th>\n",
       "      <th>Act_Score</th>\n",
       "      <th>Avg_dailyHRV</th>\n",
       "      <th>Sleep_Score</th>\n",
       "      <th>Propensity_Score</th>\n",
       "      <th>Date</th>\n",
       "      <th>ID</th>\n",
       "      <th>cEmotAbuse</th>\n",
       "      <th>Act_Score</th>\n",
       "      <th>Avg_dailyHRV</th>\n",
       "      <th>Sleep_Score</th>\n",
       "      <th>Propensity_Score</th>\n",
       "    </tr>\n",
       "  </thead>\n",
       "  <tbody>\n",
       "    <tr>\n",
       "      <th>0</th>\n",
       "      <td>2023-05-18</td>\n",
       "      <td>5</td>\n",
       "      <td>1</td>\n",
       "      <td>94</td>\n",
       "      <td>73.206897</td>\n",
       "      <td>79.0</td>\n",
       "      <td>0.504646</td>\n",
       "      <td>2023-06-01</td>\n",
       "      <td>3</td>\n",
       "      <td>0</td>\n",
       "      <td>82</td>\n",
       "      <td>86.347222</td>\n",
       "      <td>72.0</td>\n",
       "      <td>0.504270</td>\n",
       "    </tr>\n",
       "    <tr>\n",
       "      <th>1</th>\n",
       "      <td>2023-05-19</td>\n",
       "      <td>5</td>\n",
       "      <td>1</td>\n",
       "      <td>94</td>\n",
       "      <td>98.931818</td>\n",
       "      <td>77.0</td>\n",
       "      <td>0.516031</td>\n",
       "      <td>2023-06-24</td>\n",
       "      <td>13</td>\n",
       "      <td>0</td>\n",
       "      <td>94</td>\n",
       "      <td>27.372549</td>\n",
       "      <td>77.0</td>\n",
       "      <td>0.516031</td>\n",
       "    </tr>\n",
       "    <tr>\n",
       "      <th>2</th>\n",
       "      <td>2023-05-20</td>\n",
       "      <td>5</td>\n",
       "      <td>1</td>\n",
       "      <td>92</td>\n",
       "      <td>77.219048</td>\n",
       "      <td>88.0</td>\n",
       "      <td>0.446885</td>\n",
       "      <td>2023-06-05</td>\n",
       "      <td>3</td>\n",
       "      <td>0</td>\n",
       "      <td>85</td>\n",
       "      <td>70.289157</td>\n",
       "      <td>84.0</td>\n",
       "      <td>0.446199</td>\n",
       "    </tr>\n",
       "    <tr>\n",
       "      <th>3</th>\n",
       "      <td>2023-05-21</td>\n",
       "      <td>5</td>\n",
       "      <td>1</td>\n",
       "      <td>97</td>\n",
       "      <td>75.577586</td>\n",
       "      <td>83.0</td>\n",
       "      <td>0.491927</td>\n",
       "      <td>2023-05-18</td>\n",
       "      <td>3</td>\n",
       "      <td>0</td>\n",
       "      <td>92</td>\n",
       "      <td>83.415730</td>\n",
       "      <td>80.0</td>\n",
       "      <td>0.492245</td>\n",
       "    </tr>\n",
       "    <tr>\n",
       "      <th>4</th>\n",
       "      <td>2023-05-22</td>\n",
       "      <td>5</td>\n",
       "      <td>1</td>\n",
       "      <td>98</td>\n",
       "      <td>74.925000</td>\n",
       "      <td>77.0</td>\n",
       "      <td>0.529416</td>\n",
       "      <td>2023-05-12</td>\n",
       "      <td>3</td>\n",
       "      <td>0</td>\n",
       "      <td>88</td>\n",
       "      <td>69.180328</td>\n",
       "      <td>71.0</td>\n",
       "      <td>0.530050</td>\n",
       "    </tr>\n",
       "  </tbody>\n",
       "</table>\n",
       "</div>"
      ],
      "text/plain": [
       "     w_trauma                                                   \\\n",
       "         Date ID cEmotAbuse Act_Score Avg_dailyHRV Sleep_Score   \n",
       "0  2023-05-18  5          1        94    73.206897        79.0   \n",
       "1  2023-05-19  5          1        94    98.931818        77.0   \n",
       "2  2023-05-20  5          1        92    77.219048        88.0   \n",
       "3  2023-05-21  5          1        97    75.577586        83.0   \n",
       "4  2023-05-22  5          1        98    74.925000        77.0   \n",
       "\n",
       "                     wo_trauma                                        \\\n",
       "  Propensity_Score        Date  ID cEmotAbuse Act_Score Avg_dailyHRV   \n",
       "0         0.504646  2023-06-01   3          0        82    86.347222   \n",
       "1         0.516031  2023-06-24  13          0        94    27.372549   \n",
       "2         0.446885  2023-06-05   3          0        85    70.289157   \n",
       "3         0.491927  2023-05-18   3          0        92    83.415730   \n",
       "4         0.529416  2023-05-12   3          0        88    69.180328   \n",
       "\n",
       "                                \n",
       "  Sleep_Score Propensity_Score  \n",
       "0        72.0         0.504270  \n",
       "1        77.0         0.516031  \n",
       "2        84.0         0.446199  \n",
       "3        80.0         0.492245  \n",
       "4        71.0         0.530050  "
      ]
     },
     "execution_count": 7,
     "metadata": {},
     "output_type": "execute_result"
    }
   ],
   "source": [
    "PTL_all = df_modify_HRV_all.groupby(marker)\n",
    "wo_trauma = PTL_all.get_group(0)\n",
    "w_trauma = PTL_all.get_group(1)\n",
    "distances = cdist(w_trauma['Propensity_Score'].values.reshape(-1, 1), wo_trauma['Propensity_Score'].values.reshape(-1, 1), 'euclidean')\n",
    "# For each treated individual, find the index of the control individual with the smallest distance\n",
    "matched_indices = np.argmin(distances, axis=1)\n",
    "\n",
    "# Extract matched control individuals\n",
    "matched_wo_trauma = wo_trauma.iloc[matched_indices]\n",
    "\n",
    "# Reset indices for concatenation\n",
    "w_trauma = w_trauma.reset_index(drop=True)\n",
    "matched_wo_trauma = matched_wo_trauma.reset_index(drop=True)\n",
    "\n",
    "# Combine the matched pairs into a single DataFrame\n",
    "matched_data = pd.concat([w_trauma, matched_wo_trauma], axis=1, keys=['w_trauma', 'wo_trauma'])\n",
    "\n",
    "# Check the first few rows of matched pairs\n",
    "matched_data.head()\n",
    "# os.chdir('/Users/yiwengeng/Documents/PregnantPrj/Data')\n",
    "# matched_data.to_csv('matched_data.csv')\n"
   ]
  },
  {
   "cell_type": "code",
   "execution_count": 9,
   "metadata": {},
   "outputs": [
    {
     "ename": "KeyError",
     "evalue": "'Trauma'",
     "output_type": "error",
     "traceback": [
      "\u001b[0;31m---------------------------------------------------------------------------\u001b[0m",
      "\u001b[0;31mKeyError\u001b[0m                                  Traceback (most recent call last)",
      "\u001b[1;32m/Users/yiwengeng/Documents/PregnantPrj/Code/hrv_act.ipynb Cell 11\u001b[0m line \u001b[0;36m4\n\u001b[1;32m      <a href='vscode-notebook-cell:/Users/yiwengeng/Documents/PregnantPrj/Code/hrv_act.ipynb#X10sZmlsZQ%3D%3D?line=0'>1</a>\u001b[0m \u001b[39mfrom\u001b[39;00m \u001b[39msklearn\u001b[39;00m\u001b[39m.\u001b[39;00m\u001b[39mneighbors\u001b[39;00m \u001b[39mimport\u001b[39;00m NearestNeighbors\n\u001b[1;32m      <a href='vscode-notebook-cell:/Users/yiwengeng/Documents/PregnantPrj/Code/hrv_act.ipynb#X10sZmlsZQ%3D%3D?line=2'>3</a>\u001b[0m \u001b[39m# Separate treated and control groups\u001b[39;00m\n\u001b[0;32m----> <a href='vscode-notebook-cell:/Users/yiwengeng/Documents/PregnantPrj/Code/hrv_act.ipynb#X10sZmlsZQ%3D%3D?line=3'>4</a>\u001b[0m PTL_all \u001b[39m=\u001b[39m df_modify_HRV_all\u001b[39m.\u001b[39;49mgroupby(\u001b[39m'\u001b[39;49m\u001b[39mTrauma\u001b[39;49m\u001b[39m'\u001b[39;49m)\n\u001b[1;32m      <a href='vscode-notebook-cell:/Users/yiwengeng/Documents/PregnantPrj/Code/hrv_act.ipynb#X10sZmlsZQ%3D%3D?line=4'>5</a>\u001b[0m control \u001b[39m=\u001b[39m PTL_all\u001b[39m.\u001b[39mget_group(\u001b[39m0\u001b[39m)\n\u001b[1;32m      <a href='vscode-notebook-cell:/Users/yiwengeng/Documents/PregnantPrj/Code/hrv_act.ipynb#X10sZmlsZQ%3D%3D?line=5'>6</a>\u001b[0m treated \u001b[39m=\u001b[39m PTL_all\u001b[39m.\u001b[39mget_group(\u001b[39m1\u001b[39m)\n",
      "File \u001b[0;32m~/.pyenv/versions/miniconda3-latest/lib/python3.10/site-packages/pandas/core/frame.py:8252\u001b[0m, in \u001b[0;36mDataFrame.groupby\u001b[0;34m(self, by, axis, level, as_index, sort, group_keys, observed, dropna)\u001b[0m\n\u001b[1;32m   8249\u001b[0m     \u001b[39mraise\u001b[39;00m \u001b[39mTypeError\u001b[39;00m(\u001b[39m\"\u001b[39m\u001b[39mYou have to supply one of \u001b[39m\u001b[39m'\u001b[39m\u001b[39mby\u001b[39m\u001b[39m'\u001b[39m\u001b[39m and \u001b[39m\u001b[39m'\u001b[39m\u001b[39mlevel\u001b[39m\u001b[39m'\u001b[39m\u001b[39m\"\u001b[39m)\n\u001b[1;32m   8250\u001b[0m axis \u001b[39m=\u001b[39m \u001b[39mself\u001b[39m\u001b[39m.\u001b[39m_get_axis_number(axis)\n\u001b[0;32m-> 8252\u001b[0m \u001b[39mreturn\u001b[39;00m DataFrameGroupBy(\n\u001b[1;32m   8253\u001b[0m     obj\u001b[39m=\u001b[39;49m\u001b[39mself\u001b[39;49m,\n\u001b[1;32m   8254\u001b[0m     keys\u001b[39m=\u001b[39;49mby,\n\u001b[1;32m   8255\u001b[0m     axis\u001b[39m=\u001b[39;49maxis,\n\u001b[1;32m   8256\u001b[0m     level\u001b[39m=\u001b[39;49mlevel,\n\u001b[1;32m   8257\u001b[0m     as_index\u001b[39m=\u001b[39;49mas_index,\n\u001b[1;32m   8258\u001b[0m     sort\u001b[39m=\u001b[39;49msort,\n\u001b[1;32m   8259\u001b[0m     group_keys\u001b[39m=\u001b[39;49mgroup_keys,\n\u001b[1;32m   8260\u001b[0m     observed\u001b[39m=\u001b[39;49mobserved,\n\u001b[1;32m   8261\u001b[0m     dropna\u001b[39m=\u001b[39;49mdropna,\n\u001b[1;32m   8262\u001b[0m )\n",
      "File \u001b[0;32m~/.pyenv/versions/miniconda3-latest/lib/python3.10/site-packages/pandas/core/groupby/groupby.py:931\u001b[0m, in \u001b[0;36mGroupBy.__init__\u001b[0;34m(self, obj, keys, axis, level, grouper, exclusions, selection, as_index, sort, group_keys, observed, dropna)\u001b[0m\n\u001b[1;32m    928\u001b[0m \u001b[39mself\u001b[39m\u001b[39m.\u001b[39mdropna \u001b[39m=\u001b[39m dropna\n\u001b[1;32m    930\u001b[0m \u001b[39mif\u001b[39;00m grouper \u001b[39mis\u001b[39;00m \u001b[39mNone\u001b[39;00m:\n\u001b[0;32m--> 931\u001b[0m     grouper, exclusions, obj \u001b[39m=\u001b[39m get_grouper(\n\u001b[1;32m    932\u001b[0m         obj,\n\u001b[1;32m    933\u001b[0m         keys,\n\u001b[1;32m    934\u001b[0m         axis\u001b[39m=\u001b[39;49maxis,\n\u001b[1;32m    935\u001b[0m         level\u001b[39m=\u001b[39;49mlevel,\n\u001b[1;32m    936\u001b[0m         sort\u001b[39m=\u001b[39;49msort,\n\u001b[1;32m    937\u001b[0m         observed\u001b[39m=\u001b[39;49mobserved,\n\u001b[1;32m    938\u001b[0m         dropna\u001b[39m=\u001b[39;49m\u001b[39mself\u001b[39;49m\u001b[39m.\u001b[39;49mdropna,\n\u001b[1;32m    939\u001b[0m     )\n\u001b[1;32m    941\u001b[0m \u001b[39mself\u001b[39m\u001b[39m.\u001b[39mobj \u001b[39m=\u001b[39m obj\n\u001b[1;32m    942\u001b[0m \u001b[39mself\u001b[39m\u001b[39m.\u001b[39maxis \u001b[39m=\u001b[39m obj\u001b[39m.\u001b[39m_get_axis_number(axis)\n",
      "File \u001b[0;32m~/.pyenv/versions/miniconda3-latest/lib/python3.10/site-packages/pandas/core/groupby/grouper.py:985\u001b[0m, in \u001b[0;36mget_grouper\u001b[0;34m(obj, key, axis, level, sort, observed, validate, dropna)\u001b[0m\n\u001b[1;32m    983\u001b[0m         in_axis, level, gpr \u001b[39m=\u001b[39m \u001b[39mFalse\u001b[39;00m, gpr, \u001b[39mNone\u001b[39;00m\n\u001b[1;32m    984\u001b[0m     \u001b[39melse\u001b[39;00m:\n\u001b[0;32m--> 985\u001b[0m         \u001b[39mraise\u001b[39;00m \u001b[39mKeyError\u001b[39;00m(gpr)\n\u001b[1;32m    986\u001b[0m \u001b[39melif\u001b[39;00m \u001b[39misinstance\u001b[39m(gpr, Grouper) \u001b[39mand\u001b[39;00m gpr\u001b[39m.\u001b[39mkey \u001b[39mis\u001b[39;00m \u001b[39mnot\u001b[39;00m \u001b[39mNone\u001b[39;00m:\n\u001b[1;32m    987\u001b[0m     \u001b[39m# Add key to exclusions\u001b[39;00m\n\u001b[1;32m    988\u001b[0m     exclusions\u001b[39m.\u001b[39madd(gpr\u001b[39m.\u001b[39mkey)\n",
      "\u001b[0;31mKeyError\u001b[0m: 'Trauma'"
     ]
    }
   ],
   "source": [
    "from sklearn.neighbors import NearestNeighbors\n",
    "\n",
    "# Separate treated and control groups\n",
    "PTL_all = df_modify_HRV_all.groupby('Trauma')\n",
    "control = PTL_all.get_group(0)\n",
    "treated = PTL_all.get_group(1)\n",
    "\n",
    "# Find matches for treated using Nearest Neighbors\n",
    "knn = NearestNeighbors(n_neighbors=1).fit(control[['Propensity_Score']])\n",
    "distances, indices = knn.kneighbors(treated[['Propensity_Score']])\n",
    "\n",
    "# Create a dataframe of matched pairs\n",
    "matched_data = pd.concat([\n",
    "    treated.reset_index(drop=True),\n",
    "    control.iloc[indices.flatten()].reset_index(drop=True)\n",
    "], axis=1, keys=['Treated', 'Control'])\n",
    "\n",
    "# matched_data.head()"
   ]
  },
  {
   "cell_type": "code",
   "execution_count": 12,
   "metadata": {},
   "outputs": [
    {
     "data": {
      "text/plain": [
       "(47.14534084272693, 41.79685129134927, 5.348489551377661)"
      ]
     },
     "execution_count": 12,
     "metadata": {},
     "output_type": "execute_result"
    }
   ],
   "source": [
    "# Calculate average weight loss in the matched treated and control groups\n",
    "avg_weight_loss_treated = matched_data['w_trauma']['Avg_dailyHRV'].mean()\n",
    "avg_weight_loss_control = matched_data['wo_trauma']['Avg_dailyHRV'].mean()\n",
    "\n",
    "# Estimate average treatment effect (ATE)\n",
    "ATE = avg_weight_loss_treated - avg_weight_loss_control\n",
    "\n",
    "avg_weight_loss_treated, avg_weight_loss_control, ATE"
   ]
  },
  {
   "cell_type": "code",
   "execution_count": 18,
   "metadata": {},
   "outputs": [
    {
     "data": {
      "text/plain": [
       "(3.6586450318227888, 0.0003206612284353537)"
      ]
     },
     "execution_count": 18,
     "metadata": {},
     "output_type": "execute_result"
    }
   ],
   "source": [
    "import scipy.stats as stats\n",
    "# t_statistic, p_value = stats.ttest_1samp(w_trauma['Avg_dailyHRV'], wo_trauma['Avg_dailyHRV'].mean())\n",
    "t_statistic, p_value = stats.ttest_1samp(matched_data['w_trauma']['Avg_dailyHRV'], matched_data['wo_trauma']['Avg_dailyHRV'].mean() )\n",
    "\n",
    "\n",
    "t_statistic, p_value"
   ]
  },
  {
   "cell_type": "code",
   "execution_count": 16,
   "metadata": {},
   "outputs": [
    {
     "name": "stdout",
     "output_type": "stream",
     "text": [
      "47.14534084272693\n",
      "41.79685129134927\n",
      "47.14534084272693\n",
      "39.6598296468988\n",
      "5.348489551377663 7.485511195828131 2.137021644450468\n"
     ]
    }
   ],
   "source": [
    "# Step 4: Analyze\n",
    "print(matched_data['w_trauma']['Avg_dailyHRV'].mean())\n",
    "print(matched_data['wo_trauma']['Avg_dailyHRV'].mean())\n",
    "print(w_trauma['Avg_dailyHRV'].mean())\n",
    "print(wo_trauma['Avg_dailyHRV'].mean())\n",
    "# Calculate the average trauma effect among the matched pairs\n",
    "ate_matched = (matched_data['w_trauma']['Avg_dailyHRV'] - matched_data['wo_trauma']['Avg_dailyHRV']).mean()\n",
    "\n",
    "# For comparison, calculate the average trauma effect without matching\n",
    "ate_unmatched = w_trauma['Avg_dailyHRV'].mean() - wo_trauma['Avg_dailyHRV'].mean()\n",
    "\n",
    "print(ate_matched, ate_unmatched,ate_unmatched-ate_matched)"
   ]
  },
  {
   "cell_type": "code",
   "execution_count": 102,
   "metadata": {},
   "outputs": [
    {
     "name": "stdout",
     "output_type": "stream",
     "text": [
      "         Date  ID  Trauma  Act_Score  Avg_dailyHRV  Sleep_Score  \\\n",
      "0  2023-06-10   1       0         75     47.365854         95.0   \n",
      "1  2023-06-11   1       0         78     80.518519         93.0   \n",
      "2  2023-06-13   1       0         83     40.669492         95.0   \n",
      "3  2023-06-17   1       0         83     49.626016         97.0   \n",
      "4  2023-06-18   1       0         87     12.822222         58.0   \n",
      "\n",
      "   Propensity_Score  \n",
      "0          0.541397  \n",
      "1          0.560487  \n",
      "2          0.566886  \n",
      "3          0.557417  \n",
      "4          0.737401  \n",
      "df_act_all:  489\n"
     ]
    }
   ],
   "source": [
    "print(df_modify_HRV_all.head())\n",
    "print(\"df_act_all: \",len(df_modify_HRV_all))"
   ]
  },
  {
   "cell_type": "code",
   "execution_count": null,
   "metadata": {},
   "outputs": [],
   "source": []
  }
 ],
 "metadata": {
  "kernelspec": {
   "display_name": "base",
   "language": "python",
   "name": "python3"
  },
  "language_info": {
   "codemirror_mode": {
    "name": "ipython",
    "version": 3
   },
   "file_extension": ".py",
   "mimetype": "text/x-python",
   "name": "python",
   "nbconvert_exporter": "python",
   "pygments_lexer": "ipython3",
   "version": "3.10.9"
  },
  "orig_nbformat": 4
 },
 "nbformat": 4,
 "nbformat_minor": 2
}
