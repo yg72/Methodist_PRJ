{
 "cells": [
  {
   "cell_type": "markdown",
   "metadata": {},
   "source": [
    "### for different questionnaire"
   ]
  },
  {
   "cell_type": "code",
   "execution_count": 1,
   "metadata": {},
   "outputs": [],
   "source": [
    "import pandas as pd\n",
    "from scipy.stats import pearsonr\n",
    "import os\n",
    "import matplotlib.pyplot as plt\n",
    "from matplotlib.dates import AutoDateLocator, DateFormatter\n",
    "from datetime import datetime\n",
    "import seaborn as sns\n",
    "import numpy as np\n",
    "import matplotlib.patches as mpatches\n",
    "from myhist import my_hist"
   ]
  },
  {
   "cell_type": "code",
   "execution_count": 5,
   "metadata": {},
   "outputs": [],
   "source": [
    "folder = '/Users/yiwengeng/Documents/PregnantPrj/Data/PTL_Data/'\n",
    "dirlist = [\"PTL01\",\"PTL02\",\"PTL03\",\"PTL05\",\"PTL06\",\"PTL07\",\"PTL09\",\"PTL10\",\"PTL11\",\"PTL12\",\"PTL13\",\"PTL14\",\"PTL15\",\"PTL16\",\"PTL17\"]\n",
    "# dirlist = [\"PTL02\",\"PTL03\"]\n",
    "act_names=[\"activity_score\", \"score_meet_daily_targets\",\"score_move_every_hour\",\"score_stay_active\",\"steps\"]\n",
    "hr_names=[\"bpm\"]\n",
    "spo2_names=[\"spo2\"]\n",
    "hrhrv_names=[\"5min_hr\",\"5min_hrv\"]\n",
    "ready_names=[\"readiness_score\", \"score_previous_night\",\"score_sleep_balance\", \n",
    "             \"score_previous_day\",\"score_activity_balance\",\"score_resting_hr\",\n",
    "             \"score_hrv_balance\",\"score_recovery_index\",\"score_temperature\"]\n",
    "sleep_names=[\"sleep_score\", \"duration\",\"efficiency\",\"onset_latency\",\"rmssd\",\n",
    "             \"score_deep\",\"score_efficiency\",\"score_rem\"]\n",
    "df_act = {}\n",
    "df_sleep = {}\n",
    "df_ready = {}\n",
    "df_hr = {}\n",
    "df_hrhrv = {}\n",
    "df_spo2 = {}\n",
    "\n"
   ]
  },
  {
   "cell_type": "code",
   "execution_count": 4,
   "metadata": {},
   "outputs": [],
   "source": [
    "# marker_list = [eACEScore,cEmotAbuse,cPhysAbuse,cSexAbuse,cEmoNeglect,cPhysNeglect,cDV,cHSA,cHMI,cPSD,cIHM,eWV,eFD,eANE,eBullied,eFOSTER]\n",
    "if marker == 'eACEScore':\n",
    "    healthy = [1,2,3,9,10,11,12,13,14,15,17,18]\n",
    "    unhealthy = [5,6,7,16] \n",
    "elif marker == 'cEmotAbuse':\n",
    "    healthy = [1,2,3,8,9,10,12,13,14,15,18]\n",
    "    unhealthy = [4,5,6,7,11,16,17]\n",
    "elif marker == 'cPhysAbuse':\n",
    "    healthy = [1,2,3,6,8,9,10,12,13,15,16,18]\n",
    "    unhealthy = [4,5,7,11,14,17]  \n",
    "elif marker == 'cSexAbuse':\n",
    "    healthy = [1,2,3,5,6,7,8,9,10,11,12,13,14,15,16,17,18]\n",
    "    unhealthy = [4]\n",
    "elif marker == 'cEmoNeglect':\n",
    "    healthy = [1,2,3,4,5,6,7,8,9,10,11,12,13,14,15,16,17,18]\n",
    "    unhealthy = []\n",
    "elif marker == 'cPhysNeglect':\n",
    "    healthy = [1,2,3,4,5,6,7,8,9,10,11,12,13,14,15,16,17,18]\n",
    "    unhealthy = []\n",
    "elif marker == 'cDV':\n",
    "    healthy = [1,2,3,4,5,6,7,8,9,10,11,12,13,14,15,16,17,18]\n",
    "    unhealthy = []\n",
    "elif marker == 'cHSA':\n",
    "    healthy = [1,2,3,4,5,6,8,9,10,11,12,13,15,16,17,18]\n",
    "    unhealthy = [7,14]\n",
    "elif marker == 'cHMI':\n",
    "    healthy = [1,2,4,5,7,8,9,10,11,12,13,14,15,17,18]\n",
    "    unhealthy = [3,6,16]\n",
    "elif marker == 'cPSD':\n",
    "    healthy = [1,2,4,6,7,8,9,10,11,12,13,14,15,16,17,18]\n",
    "    unhealthy = [3,5]\n",
    "elif marker == 'cIHM':\n",
    "    healthy = [1,2,3,4,5,6,7,8,9,10,11,12,13,14,15,16,17,18]\n",
    "    unhealthy = []\n",
    "elif marker == 'eWV':\n",
    "    healthy = [1,2,3,4,5,7,8,9,10,12,13,14,15,16,17,18]\n",
    "    unhealthy = [6,11]\n",
    "elif marker == 'eFD':\n",
    "    healthy = [1,2,3,4,5,6,7,8,9,10,11,12,13,14,15,17,18]\n",
    "    unhealthy = [16]\n",
    "elif marker == 'eANE':\n",
    "    healthy = [1,2,5,8,9,10,11,12,13,14,15,16,17,18]\n",
    "    unhealthy = [3,4,6,7]\n",
    "elif marker == 'eBullied':\n",
    "    healthy = [1,2,3,4,6,7,8,9,10,11,12,13,14,15,16,17,18]\n",
    "    unhealthy = [5]\n",
    "elif marker == 'eFOSTER':\n",
    "    healthy = [1,2,3,4,5,6,7,8,9,10,11,12,13,14,15,17,18]\n",
    "    unhealthy = [16]"
   ]
  },
  {
   "cell_type": "code",
   "execution_count": 6,
   "metadata": {},
   "outputs": [],
   "source": [
    "for dir in dirlist:\n",
    "    ID = int(dir[-2:])\n",
    "    os.chdir(folder+dir)\n",
    "    files = sorted(os.listdir())\n",
    "    # print(\"ID\",ID)\n",
    "    # activity\n",
    "    df_act[ID] = pd.read_csv(files[0], parse_dates = [0])\n",
    "    df_act[ID].rename(columns={'score':'activity_score'},inplace=True)\n",
    "    df_act[ID]['ID'] =  ID\n",
    "    df_act[ID][marker] = 0 if ID in healthy else 1 if ID in unhealthy else None\n",
    "    # print('act',len(df_act[ID]))\n",
    "\n",
    "    # sleep\n",
    "    df_sleep[ID] = pd.read_csv(files[7], parse_dates = [0])\n",
    "    df_sleep[ID].rename(columns={'score':'sleep_score'},inplace=True)\n",
    "    df_sleep[ID]['ID'] =  ID\n",
    "    df_sleep[ID][marker] = 0 if ID in healthy else 1 if ID in unhealthy else None\n",
    "    # print('sleep',len(df_sleep[ID]))\n",
    "    # readiness\n",
    "    df_ready[ID] = pd.read_csv(files[5], parse_dates = [0])\n",
    "    df_ready[ID].rename(columns={'score':'readiness_score'},inplace=True)\n",
    "    df_ready[ID]['ID'] =  ID\n",
    "    df_ready[ID][marker] = 0 if ID in healthy else 1 if ID in unhealthy else None\n",
    "    # print('ready',len(df_ready[ID]))\n",
    "\n",
    "    # daily_hr\n",
    "    df_hr[ID] = pd.read_csv(files[1], parse_dates = [0])\n",
    "    df_hr[ID]['ID'] =  ID\n",
    "    df_hr[ID][marker] = 0 if ID in healthy else 1 if ID in unhealthy else None    \n",
    "    # print('hr',len(df_hr[ID]))\n",
    "\n",
    "    # hr_hrv\n",
    "    df_hrhrv[ID] = pd.read_csv(files[3], parse_dates = [0])\n",
    "    df_hrhrv[ID].rename(columns={'5-min hr':'5min_hr','5-min hrv':'5min_hrv'},inplace=True)\n",
    "    df_hrhrv[ID]['ID'] =  ID\n",
    "    df_hrhrv[ID][marker] = 0 if ID in healthy else 1 if ID in unhealthy else None   \n",
    "    df_hrhrv[ID] = df_hrhrv[ID].loc[df_hrhrv[ID]['5min_hr'] != 0]\n",
    "    df_hrhrv[ID]['timestamp'] = pd.to_datetime(df_hrhrv[ID]['timestamp'], utc=True)\n",
    "    df_hrhrv[ID]['days_from_start'] = (df_hrhrv[ID]['timestamp'] - df_hrhrv[ID]['timestamp'].min()).dt.days\n",
    "    df_hrhrv[ID]['Date'] = pd.to_datetime(df_hrhrv[ID]['timestamp'].dt.date, utc=True)\n",
    "\n",
    "    # print(\"hrhrv\",len(df_hrhrv[ID]))\n",
    "\n",
    "    # spo2\n",
    "    df_spo2[ID] = pd.read_csv(files[2], parse_dates = [0])\n",
    "    df_spo2[ID].rename(columns={'average spo2':'spo2'},inplace=True)\n",
    "    df_spo2[ID]['ID'] =  ID\n",
    "    df_spo2[ID][marker] = 0 if ID in healthy else 1 if ID in unhealthy else None    \n",
    "    # print('spo2',len(df_spo2[ID]))\n",
    "\n",
    "    # print(\"*\"*20)  "
   ]
  },
  {
   "cell_type": "code",
   "execution_count": 7,
   "metadata": {},
   "outputs": [
    {
     "name": "stdout",
     "output_type": "stream",
     "text": [
      "df_act_all:  536\n",
      "df_sleep_all:  490\n",
      "df_ready_all:  490\n",
      "df_hr_all:  118833\n",
      "df_hrhrv_all:  45532\n",
      "df_spo2_all:  473\n"
     ]
    }
   ],
   "source": [
    "# combine all dataframes\n",
    "df_act_all = pd.concat([df_act[int(dir[-2:])] for dir in dirlist], axis=0,ignore_index=True)\n",
    "print(\"df_act_all: \",len(df_act_all))\n",
    "df_sleep_all = pd.concat([df_sleep[int(dir[-2:])] for dir in dirlist], axis=0,ignore_index=True)\n",
    "print(\"df_sleep_all: \",len(df_sleep_all))\n",
    "df_ready_all = pd.concat([df_ready[int(dir[-2:])] for dir in dirlist], axis=0,ignore_index=True)\n",
    "print(\"df_ready_all: \",len(df_ready_all))\n",
    "df_hr_all = pd.concat([df_hr[int(dir[-2:])] for dir in dirlist],ignore_index=True)\n",
    "print(\"df_hr_all: \",len(df_hr_all))\n",
    "df_hrhrv_all = pd.concat([df_hrhrv[int(dir[-2:])] for dir in dirlist],ignore_index=True)\n",
    "print(\"df_hrhrv_all: \",len(df_hrhrv_all))\n",
    "df_spo2_all = pd.concat([df_spo2[int(dir[-2:])] for dir in dirlist],ignore_index=True)\n",
    "print(\"df_spo2_all: \",len(df_spo2_all))"
   ]
  },
  {
   "cell_type": "code",
   "execution_count": null,
   "metadata": {},
   "outputs": [],
   "source": [
    "marker_L = [ \"eACEScore\",\" cEmotAbuse\",\" cPhysAbuse\",\" cSexAbuse\",\" cEmoNeglect\",\" cPhysNeglect\",\" cDV\",\" cHSA\",\" cHMI\",\" cPSD\",\" cIHM\",\" eWV\",\" eFD\",\" eANE\",\" eBullied\",\" eFOSTER\"]\n",
    "for marker in marker_L:\n",
    "# marker = \"cEmotAbuse\"\n",
    "    my_hist(df_hrhrv_all,'5min_hrv','5min_hrv',left=71, right=71,marker=marker)\n"
   ]
  },
  {
   "cell_type": "code",
   "execution_count": 11,
   "metadata": {},
   "outputs": [
    {
     "name": "stdout",
     "output_type": "stream",
     "text": [
      "                  timestamp  5min_hr  5min_hrv  \\\n",
      "0 2023-06-10 03:01:30+00:00       61        51   \n",
      "1 2023-06-10 03:06:30+00:00       63        53   \n",
      "2 2023-06-10 03:11:30+00:00       62        60   \n",
      "3 2023-06-10 03:16:30+00:00       62        70   \n",
      "4 2023-06-10 03:21:30+00:00       63        50   \n",
      "\n",
      "                        participant_uid  ID  eACEScore  days_from_start  \\\n",
      "0  d072ba27-01d4-4e88-bf8d-05eaf059087d   1          0                0   \n",
      "1  d072ba27-01d4-4e88-bf8d-05eaf059087d   1          0                0   \n",
      "2  d072ba27-01d4-4e88-bf8d-05eaf059087d   1          0                0   \n",
      "3  d072ba27-01d4-4e88-bf8d-05eaf059087d   1          0                0   \n",
      "4  d072ba27-01d4-4e88-bf8d-05eaf059087d   1          0                0   \n",
      "\n",
      "                       Date  \n",
      "0 2023-06-10 00:00:00+00:00  \n",
      "1 2023-06-10 00:00:00+00:00  \n",
      "2 2023-06-10 00:00:00+00:00  \n",
      "3 2023-06-10 00:00:00+00:00  \n",
      "4 2023-06-10 00:00:00+00:00  \n"
     ]
    }
   ],
   "source": [
    "print(df_hrhrv_all.head())"
   ]
  },
  {
   "cell_type": "code",
   "execution_count": null,
   "metadata": {},
   "outputs": [],
   "source": []
  }
 ],
 "metadata": {
  "kernelspec": {
   "display_name": "base",
   "language": "python",
   "name": "python3"
  },
  "language_info": {
   "codemirror_mode": {
    "name": "ipython",
    "version": 3
   },
   "file_extension": ".py",
   "mimetype": "text/x-python",
   "name": "python",
   "nbconvert_exporter": "python",
   "pygments_lexer": "ipython3",
   "version": "3.10.9"
  },
  "orig_nbformat": 4
 },
 "nbformat": 4,
 "nbformat_minor": 2
}
