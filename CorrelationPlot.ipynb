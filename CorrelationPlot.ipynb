{
 "cells": [
  {
   "cell_type": "code",
   "execution_count": null,
   "metadata": {},
   "outputs": [],
   "source": [
    "# load data from .dat file (No necessary)\n",
    "import pandas as pd\n",
    "\n",
    "# Read the file\n",
    "data = pd.read_csv('/Users/yiwengeng/Documents/PregnantPrj/Data/PTL071323 tab delimited.dat', sep='\\t')\n",
    "\n",
    "# Display the first few rows\n",
    "data.info()"
   ]
  },
  {
   "cell_type": "code",
   "execution_count": null,
   "metadata": {},
   "outputs": [],
   "source": [
    "# load data from .sav file (No necessary)\n",
    "import pyreadstat\n",
    "\n",
    "# Read the .sav file\n",
    "df, metadata = pyreadstat.read_sav('/Users/yiwengeng/Documents/PregnantPrj/Data/PTL071323.sav')\n",
    "\n",
    "# Display the first few rows\n",
    "df.head(5)"
   ]
  },
  {
   "cell_type": "code",
   "execution_count": null,
   "metadata": {},
   "outputs": [],
   "source": [
    "import pandas as pd\n",
    "from scipy.stats import pearsonr\n",
    "# Read the file\n",
    "data = pd.read_excel('/Users/yiwengeng/Documents/PregnantPrj/Data/PLT_stats.xlsx',sheet_name='Summary')\n",
    "# print(data.info())\n",
    "# Display the first few rows\n",
    "# Filter the data\n",
    "# collect_down data in which Alldata == 1\n",
    "filtered_data = data[data['Alldata'] == 1]\n",
    "# filtered_data = data[data['Alldata'].isin([0, 1])]\n",
    "# Calculate the Pearson correlation coefficient for 'column1' and 'column2'\n",
    "## iloc[:,2:55] -- Oura Data\n",
    "## iloc[:,56:65] -- Demo Data\n",
    "selected_data = filtered_data.iloc[:,2:] #\n",
    "# print(selected_data.info())\n",
    "correlation_matrix = selected_data.corr()\n",
    "# print(correlation_matrix)"
   ]
  },
  {
   "cell_type": "code",
   "execution_count": null,
   "metadata": {},
   "outputs": [],
   "source": [
    "correlation_matrix = correlation_matrix.applymap(lambda x: 1 if x >= 0.75 else (-1 if x <= -0.75 else x))\n"
   ]
  },
  {
   "cell_type": "code",
   "execution_count": null,
   "metadata": {},
   "outputs": [],
   "source": [
    "import seaborn as sns\n",
    "import matplotlib.pyplot as plt\n",
    "import numpy as np\n",
    "# Generate a heatmap\n",
    "plt.figure(figsize=(20, 10), dpi=256)\n",
    "# g = sns.heatmap(data=correlation_matrix, annot=True, fmt='d',cmap = \"Blues\", annot_kws={\"size\": 16})\n",
    "# g.ax_heatmap.set_xticklabels(g.ax_heatmap.get_xmajorticklabels(), fontsize = 16)\n",
    "\n",
    "# Getting the Upper Triangle of the co-relation matrix\n",
    "mask = np.zeros_like(correlation_matrix, dtype=np.bool_)\n",
    "mask[np.tril_indices_from(mask)] = True\n",
    "\n",
    "# using the upper triangle matrix as mask \n",
    "hmap = sns.heatmap(correlation_matrix, annot=False, mask=mask,cmap=sns.diverging_palette(220, 220, s=70, as_cmap=True)) #, annot_kws={\"size\": 16}\n",
    "hmap.set_xticklabels(hmap.get_xticklabels(),rotation=90,fontsize=12)\n",
    "hmap.set_yticklabels(hmap.get_yticklabels(),fontsize=12)\n",
    "plt.show()"
   ]
  },
  {
   "cell_type": "code",
   "execution_count": null,
   "metadata": {},
   "outputs": [],
   "source": [
    "import statsmodels.api as sm\n",
    "import statsmodels.formula.api as smf"
   ]
  },
  {
   "cell_type": "code",
   "execution_count": null,
   "metadata": {},
   "outputs": [],
   "source": [
    "temp = list(selected_data.keys())\n",
    "# newlist = temp[2:52]+temp[54:]\n",
    "formula = 'eACEStotal ~ ' + ' + '.join(temp[0]+:])\n",
    "print(formula)"
   ]
  },
  {
   "cell_type": "code",
   "execution_count": null,
   "metadata": {},
   "outputs": [],
   "source": [
    "# VIF: multicollinearity -- not work\n",
    "from statsmodels.stats.outliers_influence import variance_inflation_factor\n",
    "import pandas as pd\n",
    "\n",
    "x = selected_data[['Std_activity_score', 'Std_bpm', 'Avg_5min_hr', 'Std_5min_hrv',\n",
    "       'Avg_score_sleep_balance', 'Avg_score_activity_balance', 'DemoHeight']]\n",
    "df_with_constant = sm.add_constant(x)\n",
    "\n",
    "vif_data = pd.DataFrame()\n",
    "vif_data[\"feature\"] = df_with_constant.columns\n",
    "\n",
    "# Calculate VIF for each feature\n",
    "vif_data[\"VIF\"] = [variance_inflation_factor(df_with_constant.values, i)\n",
    "                          for i in range(len(df_with_constant.columns))]\n",
    "\n",
    "print(vif_data)\n"
   ]
  },
  {
   "cell_type": "markdown",
   "metadata": {},
   "source": [
    "# 递归，正则，"
   ]
  },
  {
   "cell_type": "code",
   "execution_count": null,
   "metadata": {},
   "outputs": [],
   "source": [
    "x = selected_data[[\"Avg_sleep_score\",\"Std_sleep_score\",\n",
    "                   \"Avg_activity_score\",\"Std_activity_score\",\n",
    "                   \"Avg_readiness_score\",\"Std_readiness_score\",\n",
    "                   \"Avg_bpm\",\"Std_bpm\",\"Avg_5min_hr\", \"Std_5min_hr\", \n",
    "                   \"Avg_5min_hrv\", \"Std_5min_hrv\", \"Std_score_rem\",\n",
    "                   \"Avg_score_sleep_balance\",\"Avg_score_previous_day\",\n",
    "                   \"Avg_score_activity_balance\",\"Std_score_activity_balance\",\n",
    "                   \"Avg_score_temperature\",\n",
    "                   \"DemoEthn\",\"DemoRace\",\"DemoHeight\",\"DemoWeight\",\"DemoPlan\",\n",
    "                   \"DemoMed\",\"DemoCVEver\",\"DemoMHDx\",\"DemoInc\",\"DemoEd\"]]\n",
    "y = selected_data[\"eACEStotal\"]"
   ]
  },
  {
   "cell_type": "code",
   "execution_count": null,
   "metadata": {},
   "outputs": [],
   "source": [
    "# Recursive Feature Elimination\n",
    "from sklearn.feature_selection import RFE\n",
    "from sklearn.linear_model import LinearRegression\n",
    "\n",
    "model = LinearRegression()\n",
    "rfe = RFE(model,n_features_to_select=7,step=1)\n",
    "X_rfe = rfe.fit_transform(x,y)  \n",
    "model.fit(X_rfe,y)\n",
    "print(rfe.support_)\n",
    "print(rfe.ranking_)\n",
    "# please choose rfe.ranking_ from x\n",
    "selected_features = x.columns[rfe.support_]\n"
   ]
  },
  {
   "cell_type": "code",
   "execution_count": null,
   "metadata": {},
   "outputs": [],
   "source": [
    "x = selected_data[['Std_activity_score', 'Std_bpm', 'Avg_5min_hr', 'Std_5min_hrv',\n",
    "       'Avg_score_sleep_balance', 'Avg_score_activity_balance', 'DemoHeight']]\n",
    "y = selected_data[\"eACEStotal\"]\n",
    "X = sm.add_constant(x)\n",
    "est = sm.OLS(y,X).fit()\n",
    "est = smf.ols(formula='eACEStotal ~ Std_activity_score+Std_bpm+Avg_5min_hr+Std_5min_hrv+\\\n",
    "       Avg_score_sleep_balance+Avg_score_activity_balance+DemoHeight' , data=selected_data).fit()\n",
    "print(est.summary())"
   ]
  },
  {
   "cell_type": "code",
   "execution_count": null,
   "metadata": {},
   "outputs": [],
   "source": [
    "# Lasso Regularization\n",
    "from sklearn.linear_model import LassoCV\n",
    "reg = LassoCV()\n",
    "reg.fit(x, y)\n",
    "# print(\"Best alpha using built-in LassoCV: %f\" % reg.alpha_)\n",
    "coef = pd.Series(reg.coef_, index = x.columns)\n",
    "imp_coef = coef.sort_values()\n",
    "print(imp_coef)\n",
    "selected_features = x.columns[reg.coef_ != 0]\n",
    "# Use the mask to select the columns of x\n",
    "\n",
    "print(selected_features)\n"
   ]
  },
  {
   "cell_type": "code",
   "execution_count": null,
   "metadata": {},
   "outputs": [],
   "source": [
    "x = selected_data[['Avg_activity_score', 'Avg_bpm', 'Avg_5min_hrv', \n",
    "       'Std_score_rem', 'Avg_score_sleep_balance',\n",
    "       'Avg_score_activity_balance', 'DemoWeight']]\n",
    "y = selected_data[\"eACEStotal\"]\n",
    "X = sm.add_constant(x)\n",
    "est = sm.OLS(y,X).fit()\n",
    "est = smf.ols(formula='eACEStotal ~ Avg_activity_score+Avg_bpm+Avg_5min_hrv+\\\n",
    "              Std_score_rem+Avg_score_sleep_balance+\\\n",
    "              Avg_score_activity_balance+DemoWeight' , data=selected_data).fit()\n",
    "print(est.summary())"
   ]
  },
  {
   "cell_type": "code",
   "execution_count": null,
   "metadata": {},
   "outputs": [],
   "source": [
    "x = selected_data[[\"Avg_sleep_score\",\"Std_sleep_score\",\n",
    "                   \"Avg_activity_score\",\"Std_activity_score\",\n",
    "                   \"Avg_readiness_score\",\"Std_readiness_score\",\n",
    "                   \"Avg_bpm\",\"Std_bpm\",\"Avg_5min_hr\", \"Std_5min_hr\", \n",
    "                   \"Avg_5min_hrv\", \"Std_5min_hrv\", \"Std_score_rem\",\n",
    "                   \"Avg_score_sleep_balance\",\"Avg_score_previous_day\",\n",
    "                   \"Avg_score_activity_balance\",\"Std_score_activity_balance\",\n",
    "                   \"Avg_score_temperature\",\n",
    "                   \"DemoEthn\",\"DemoRace\",\"DemoHeight\",\"DemoWeight\",\"DemoPlan\",\n",
    "                   \"DemoMed\",\"DemoCVEver\",\"DemoMHDx\",\"DemoInc\",\"DemoEd\"]]\n",
    "y = selected_data[\"eACEStotal\"]"
   ]
  },
  {
   "cell_type": "code",
   "execution_count": null,
   "metadata": {},
   "outputs": [],
   "source": [
    "# PCA\n",
    "from sklearn.decomposition import PCA\n",
    "import sklearn.preprocessing as preprocessing\n",
    "x = preprocessing.StandardScaler().fit_transform(x)\n",
    "pca = PCA(n_components=7)\n",
    "\n",
    "# Fit the PCA model to your data and apply the dimensionality reduction. \n",
    "# This returns a new array where the data has been projected onto the principal components.\n",
    "pca_data = pca.fit_transform(x)\n",
    "pca_df = pd.DataFrame(pca_data, columns=['PC1', 'PC2', 'PC3', 'PC4', 'PC5', 'PC6', 'PC7'])\n",
    "# final_df = pd.concat([pca_df, pd.DataFrame(y.values, columns=[\"eACEStotal\"])], axis = 1)\n",
    "# You can also access the principal components, the amount of variance that each PCA explains, and the cumulative variance explained.\n",
    "# print(\"Principal components:\", pca.components_.shape)\n",
    "# print(\"Explained variance:\", pca.explained_variance_)\n",
    "# print(\"Cumulative explained variance:\", np.cumsum(pca.explained_variance_ratio_))\n"
   ]
  },
  {
   "cell_type": "code",
   "execution_count": null,
   "metadata": {},
   "outputs": [],
   "source": [
    "final_df = pd.concat([pca_df, pd.DataFrame(y.values, columns=[\"eACEStotal\"])], axis = 1)\n",
    "\n",
    "x = pca_df\n",
    "y = final_df[\"eACEStotal\"]\n",
    "\n",
    "X = sm.add_constant(x)\n",
    "est = sm.OLS(y,X).fit()\n",
    "est = smf.ols(formula='eACEStotal ~ PC1 + PC2 + PC3+PC4+PC5+PC6+PC7' , data=final_df).fit()\n",
    "print(est.summary())"
   ]
  },
  {
   "cell_type": "code",
   "execution_count": null,
   "metadata": {},
   "outputs": [],
   "source": []
  },
  {
   "cell_type": "code",
   "execution_count": null,
   "metadata": {},
   "outputs": [],
   "source": [
    "x = selected_data[[\"Avg_sleep_score\",\"Avg_readiness_score\",\"Avg_activity_score\",\"DemoEthn\",\"DemoRace\",\"DemoHeight\",\"DemoWeight\",\"DemoPlan\",\"DemoMed\",\"DemoCVEver\",\"DemoMHDx\",\"DemoInc\",\"DemoEd\"]]\n",
    "y = selected_data[\"eACEStotal\"]\n",
    "X = sm.add_constant(x)\n",
    "est = sm.OLS(y,X).fit()\n",
    "est = smf.ols(formula='eACEStotal ~ Avg_sleep_score + Avg_readiness_score + Avg_activity_score + DemoEthn + DemoRace + DemoHeight + DemoWeight + DemoPlan + DemoMed + DemoCVEver + DemoMHDx + DemoInc + DemoEd', data=selected_data).fit()\n",
    "print(est.summary())"
   ]
  },
  {
   "cell_type": "code",
   "execution_count": null,
   "metadata": {},
   "outputs": [],
   "source": [
    "summary = est.summary()\n",
    "\n",
    "# Convert the tables to dataframes\n",
    "summary_df1 = pd.DataFrame(summary.tables[0].data[1:], columns=summary.tables[0].data[0])\n",
    "summary_df2 = pd.DataFrame(summary.tables[1].data[1:], columns=summary.tables[1].data[0])\n",
    "summary_df3 = pd.DataFrame(summary.tables[2].data[1:], columns=summary.tables[2].data[0])\n",
    "\n",
    "# Save the dataframes to CSV\n",
    "summary_df1.to_csv('summary_df1.csv', index=False)\n",
    "summary_df2.to_csv('summary_df2.csv', index=False)\n",
    "summary_df3.to_csv('summary_df3.csv', index=False)"
   ]
  },
  {
   "cell_type": "code",
   "execution_count": null,
   "metadata": {},
   "outputs": [],
   "source": [
    "print(est.summary())"
   ]
  },
  {
   "cell_type": "code",
   "execution_count": null,
   "metadata": {},
   "outputs": [],
   "source": [
    "import pandas as pd\n",
    "\n",
    "# Create a DataFrame to summarize the OLS Regression Results\n",
    "summary_ols = {\n",
    "    \"Dep. Variable\": [\"eACEStotal\"],\n",
    "    \"Model\": [\"OLS\"],\n",
    "    \"Method\": [\"Least Squares\"],\n",
    "    \"Date\": [\"Wed, 19 Jul 2023\"],\n",
    "    \"Time\": [\"17:04:09\"],\n",
    "    \"No. Observations\": [15],\n",
    "    \"Df Residuals\": [1],\n",
    "    \"Df Model\": [13],\n",
    "    \"Covariance Type\": [\"nonrobust\"],\n",
    "    \"R-squared\": [0.999],\n",
    "    \"Adj. R-squared\": [0.992],\n",
    "    \"F-statistic\": [138.9],\n",
    "    \"Prob (F-statistic)\": [0.0663],\n",
    "    \"Log-Likelihood\": [26.732],\n",
    "    \"AIC\": [-25.46],\n",
    "    \"BIC\": [-15.55],\n",
    "    \"Omnibus\": [0.243],\n",
    "    \"Prob(Omnibus)\": [0.886],\n",
    "    \"Skew\": [0.230],\n",
    "    \"Prob(JB)\": [0.886],\n",
    "    \"Kurtosis\": [2.579],\n",
    "    \"Cond. No.\": [1.98e+04]\n",
    "}\n",
    "\n",
    "# Create a DataFrame for the regression coefficients\n",
    "coef = {\n",
    "    \"Variables\": [\"Intercept\", \"Avg_sleep_score\", \"Avg_readiness_score\", \"Avg_activity_score\", \"DemoEthn\", \"DemoRace\", \"DemoHeight\", \"DemoWeight\", \"DemoPlan\", \"DemoMed\", \"DemoCVEver\", \"DemoMHDx\", \"DemoInc\", \"DemoEd\"],\n",
    "    \"coef\": [61.4300, -0.1999, -0.6428, 0.2576, -7.7665, -0.4085, -0.0922, 0.0126, -1.2026, 6.1338, 5.7675, -2.4878, 0.6558, 0.4567],\n",
    "    \"std err\": [3.525, 0.021, 0.037, 0.012, 0.424, 0.068, 0.027, 0.002, 0.159, 0.295, 0.353, 0.218, 0.110, 0.077],\n",
    "    \"t\": [17.428, -9.422, -17.603, 22.143, -18.319, -5.984, -3.451, 8.206, -7.570, 20.789, 16.343, -11.395, 5.965, 5.894],\n",
    "    \"P>|t|\": [0.036, 0.067, 0.036, 0.029, 0.035, 0.105, 0.180, 0.077, 0.084, 0.031, 0.039, 0.056, 0.106, 0.107],\n",
    "    \"0.025\": [16.642, -0.470, -1.107, 0.110, -13.153, -1.276, -0.432, -0.007, -3.221, 2.385, 1.284, -5.262, -0.741, -0.528],\n",
    "    \"0.975\": [106.217, 0.070, -0.179, 0.405, -2.380, 0.459, 0.247, 0.032, 0.816, 9.883, 10.252, 0.286, 2.053, 1.441]\n",
    "}\n",
    "\n",
    "# Create dataframes\n",
    "summary_ols_df = pd.DataFrame(summary_ols)\n",
    "coef_df = pd.DataFrame(coef)\n",
    "\n",
    "# Save to csv\n",
    "summary_ols_df.to_csv('summary_ols.csv', index=False)\n",
    "coef_df.to_csv('coef.csv', index=False)"
   ]
  },
  {
   "cell_type": "code",
   "execution_count": null,
   "metadata": {},
   "outputs": [],
   "source": [
    "x = selected_data[[\"Avg_sleep_score\",\"Std_sleep_score\",\n",
    "                   \"Avg_activity_score\",\"Std_activity_score\",\n",
    "                   \"Avg_readiness_score\",\"Std_readiness_score\",\n",
    "                   \"Avg_bpm\",\"Std_bpm\",\"Avg_5min_hr\", \"Std_5min_hr\", \n",
    "                   \"Avg_5min_hrv\", \"Std_5min_hrv\", \"Std_score_rem\",\n",
    "                   \"Avg_score_sleep_balance\",\"Avg_score_previous_day\",\n",
    "                   \"Avg_score_activity_balance\",\"Std_score_activity_balance\",\n",
    "                   \"Avg_score_temperature\",\n",
    "                   \"DemoEthn\",\"DemoRace\",\"DemoHeight\",\"DemoWeight\",\"DemoPlan\",\n",
    "                   \"DemoMed\",\"DemoCVEver\",\"DemoMHDx\",\"DemoInc\",\"DemoEd\"]]\n",
    "y = selected_data[\"eACEStotal\"]\n",
    "X = sm.add_constant(x)\n",
    "est = sm.OLS(y,X).fit()\n",
    "est = smf.ols(formula='eACEStotal ~ Avg_sleep_score + Std_sleep_score + \\\n",
    "              Avg_activity_score + Std_activity_score + \\\n",
    "              Avg_readiness_score + Std_readiness_score + \\\n",
    "              Avg_bpm + Std_bpm + Avg_5min_hr + Std_5min_hr + \\\n",
    "              Avg_5min_hrv + Std_5min_hrv + Std_score_rem + \\\n",
    "              Avg_score_sleep_balance + Avg_score_previous_day + \\\n",
    "              Avg_score_activity_balance + Std_score_activity_balance + \\\n",
    "              Avg_score_temperature + \\\n",
    "              DemoEthn + DemoRace + DemoHeight + DemoWeight + DemoPlan + \\\n",
    "              DemoMed + DemoCVEver + DemoMHDx + DemoInc + DemoEd' , data=selected_data).fit()\n",
    "print(est.summary())"
   ]
  },
  {
   "cell_type": "code",
   "execution_count": null,
   "metadata": {},
   "outputs": [],
   "source": []
  }
 ],
 "metadata": {
  "kernelspec": {
   "display_name": "Python 3 (ipykernel)",
   "language": "python",
   "name": "python3"
  },
  "language_info": {
   "codemirror_mode": {
    "name": "ipython",
    "version": 3
   },
   "file_extension": ".py",
   "mimetype": "text/x-python",
   "name": "python",
   "nbconvert_exporter": "python",
   "pygments_lexer": "ipython3",
   "version": "3.10.9"
  }
 },
 "nbformat": 4,
 "nbformat_minor": 2
}
